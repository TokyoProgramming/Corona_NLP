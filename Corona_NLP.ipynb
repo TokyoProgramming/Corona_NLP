{
  "nbformat": 4,
  "nbformat_minor": 0,
  "metadata": {
    "colab": {
      "name": "Corona_NLP.ipynb",
      "provenance": [],
      "collapsed_sections": [],
      "machine_shape": "hm",
      "mount_file_id": "1Rz-Bx5DsUC79B8WqG2WLAzvQoFa446w0",
      "authorship_tag": "ABX9TyPNTLwh79CjHnWvug5F15iX",
      "include_colab_link": true
    },
    "kernelspec": {
      "name": "python3",
      "display_name": "Python 3"
    },
    "language_info": {
      "name": "python"
    },
    "accelerator": "GPU"
  },
  "cells": [
    {
      "cell_type": "markdown",
      "metadata": {
        "id": "view-in-github",
        "colab_type": "text"
      },
      "source": [
        "<a href=\"https://colab.research.google.com/github/TokyoProgramming/Corona_NLP/blob/main/Corona_NLP.ipynb\" target=\"_parent\"><img src=\"https://colab.research.google.com/assets/colab-badge.svg\" alt=\"Open In Colab\"/></a>"
      ]
    },
    {
      "cell_type": "code",
      "metadata": {
        "id": "JZJcnDEGWfRF"
      },
      "source": [
        "gpu_info = !nvidia-smi\n",
        "gpu_info = '\\n'.join(gpu_info)\n",
        "if gpu_info.find('failed') >= 0:\n",
        "  print('Select the Runtime > \"Change runtime type\" menu to enable a GPU accelerator, ')\n",
        "  print('and then re-execute this cell.')\n",
        "else:\n",
        "  print(gpu_info)"
      ],
      "execution_count": null,
      "outputs": []
    },
    {
      "cell_type": "code",
      "metadata": {
        "id": "LJEMGJqwWmk-"
      },
      "source": [
        "from psutil import virtual_memory\n",
        "ram_gb = virtual_memory().total / 1e9\n",
        "print('Your runtime has {:.1f} gigabytes of available RAM\\n'.format(ram_gb))\n",
        "\n",
        "if ram_gb < 20:\n",
        "  print('To enable a high-RAM runtime, select the Runtime > \"Change runtime type\"')\n",
        "  print('menu, and then select High-RAM in the Runtime shape dropdown. Then, ')\n",
        "  print('re-execute this cell.')\n",
        "else:\n",
        "  print('You are using a high-RAM runtime!')"
      ],
      "execution_count": null,
      "outputs": []
    },
    {
      "cell_type": "code",
      "metadata": {
        "id": "-lwfzSGCWool"
      },
      "source": [
        "!pip install -Uqq fastbook\n",
        "import fastbook\n",
        "fastbook.setup_book()\n",
        "from fastai.text.all import *"
      ],
      "execution_count": null,
      "outputs": []
    },
    {
      "cell_type": "code",
      "metadata": {
        "id": "DfE4pmjkWqmG",
        "colab": {
          "base_uri": "https://localhost:8080/"
        },
        "outputId": "c74a874e-0aa9-4ad5-b53e-e3e5bbb0d310"
      },
      "source": [
        "from fastai.text.all import *\n",
        "%reload_ext autoreload\n",
        "%autoreload 2\n",
        "%matplotlib inline\n",
        "import pandas as pd\n",
        "import numpy as np\n",
        "from sklearn.model_selection import train_test_split\n",
        "from google.colab import drive \n",
        "drive.mount('/content/gdrive')"
      ],
      "execution_count": null,
      "outputs": [
        {
          "output_type": "stream",
          "text": [
            "Drive already mounted at /content/gdrive; to attempt to forcibly remount, call drive.mount(\"/content/gdrive\", force_remount=True).\n"
          ],
          "name": "stdout"
        }
      ]
    },
    {
      "cell_type": "code",
      "metadata": {
        "id": "p4wpmR9sW5ux"
      },
      "source": [
        "df = pd.read_csv('/content/gdrive/MyDrive/Colab Notebooks/corona/Corona_NLP_train.csv', \n",
        "                       engine='python', encoding = \"ISO-8859-1\", error_bad_lines=False,\n",
        "                        usecols = ['OriginalTweet', 'Sentiment'])"
      ],
      "execution_count": null,
      "outputs": []
    },
    {
      "cell_type": "code",
      "metadata": {
        "colab": {
          "base_uri": "https://localhost:8080/",
          "height": 281
        },
        "id": "WceC6b6mEPRf",
        "outputId": "f5508a1c-72a3-4d96-97ae-3cb217613ad6"
      },
      "source": [
        "df.head()"
      ],
      "execution_count": null,
      "outputs": [
        {
          "output_type": "execute_result",
          "data": {
            "text/html": [
              "<div>\n",
              "<style scoped>\n",
              "    .dataframe tbody tr th:only-of-type {\n",
              "        vertical-align: middle;\n",
              "    }\n",
              "\n",
              "    .dataframe tbody tr th {\n",
              "        vertical-align: top;\n",
              "    }\n",
              "\n",
              "    .dataframe thead th {\n",
              "        text-align: right;\n",
              "    }\n",
              "</style>\n",
              "<table border=\"1\" class=\"dataframe\">\n",
              "  <thead>\n",
              "    <tr style=\"text-align: right;\">\n",
              "      <th></th>\n",
              "      <th>OriginalTweet</th>\n",
              "      <th>Sentiment</th>\n",
              "    </tr>\n",
              "  </thead>\n",
              "  <tbody>\n",
              "    <tr>\n",
              "      <th>0</th>\n",
              "      <td>@MeNyrbie @Phil_Gahan @Chrisitv https://t.co/iFz9FAn2Pa and https://t.co/xX6ghGFzCC and https://t.co/I2NlzdxNo8</td>\n",
              "      <td>Neutral</td>\n",
              "    </tr>\n",
              "    <tr>\n",
              "      <th>1</th>\n",
              "      <td>advice Talk to your neighbours family to exchange phone numbers create contact list with phone numbers of neighbours schools employer chemist GP set up online shopping accounts if poss adequate supplies of regular meds but not over order</td>\n",
              "      <td>Positive</td>\n",
              "    </tr>\n",
              "    <tr>\n",
              "      <th>2</th>\n",
              "      <td>Coronavirus Australia: Woolworths to give elderly, disabled dedicated shopping hours amid COVID-19 outbreak https://t.co/bInCA9Vp8P</td>\n",
              "      <td>Positive</td>\n",
              "    </tr>\n",
              "    <tr>\n",
              "      <th>3</th>\n",
              "      <td>My food stock is not the only one which is empty...\\r\\r\\n\\r\\r\\nPLEASE, don't panic, THERE WILL BE ENOUGH FOOD FOR EVERYONE if you do not take more than you need. \\r\\r\\nStay calm, stay safe.\\r\\r\\n\\r\\r\\n#COVID19france #COVID_19 #COVID19 #coronavirus #confinement #Confinementotal #ConfinementGeneral https://t.co/zrlG0Z520j</td>\n",
              "      <td>Positive</td>\n",
              "    </tr>\n",
              "    <tr>\n",
              "      <th>4</th>\n",
              "      <td>Me, ready to go at supermarket during the #COVID19 outbreak.\\r\\r\\n\\r\\r\\nNot because I'm paranoid, but because my food stock is litteraly empty. The #coronavirus is a serious thing, but please, don't panic. It causes shortage...\\r\\r\\n\\r\\r\\n#CoronavirusFrance #restezchezvous #StayAtHome #confinement https://t.co/usmuaLq72n</td>\n",
              "      <td>Extremely Negative</td>\n",
              "    </tr>\n",
              "  </tbody>\n",
              "</table>\n",
              "</div>"
            ],
            "text/plain": [
              "                                                                                                                                                                                                                                                                                                                        OriginalTweet  \\\n",
              "0                                                                                                                                                                                                                     @MeNyrbie @Phil_Gahan @Chrisitv https://t.co/iFz9FAn2Pa and https://t.co/xX6ghGFzCC and https://t.co/I2NlzdxNo8   \n",
              "1                                                                                       advice Talk to your neighbours family to exchange phone numbers create contact list with phone numbers of neighbours schools employer chemist GP set up online shopping accounts if poss adequate supplies of regular meds but not over order   \n",
              "2                                                                                                                                                                                                 Coronavirus Australia: Woolworths to give elderly, disabled dedicated shopping hours amid COVID-19 outbreak https://t.co/bInCA9Vp8P   \n",
              "3   My food stock is not the only one which is empty...\\r\\r\\n\\r\\r\\nPLEASE, don't panic, THERE WILL BE ENOUGH FOOD FOR EVERYONE if you do not take more than you need. \\r\\r\\nStay calm, stay safe.\\r\\r\\n\\r\\r\\n#COVID19france #COVID_19 #COVID19 #coronavirus #confinement #Confinementotal #ConfinementGeneral https://t.co/zrlG0Z520j   \n",
              "4  Me, ready to go at supermarket during the #COVID19 outbreak.\\r\\r\\n\\r\\r\\nNot because I'm paranoid, but because my food stock is litteraly empty. The #coronavirus is a serious thing, but please, don't panic. It causes shortage...\\r\\r\\n\\r\\r\\n#CoronavirusFrance #restezchezvous #StayAtHome #confinement https://t.co/usmuaLq72n   \n",
              "\n",
              "            Sentiment  \n",
              "0             Neutral  \n",
              "1            Positive  \n",
              "2            Positive  \n",
              "3            Positive  \n",
              "4  Extremely Negative  "
            ]
          },
          "metadata": {
            "tags": []
          },
          "execution_count": 7
        }
      ]
    },
    {
      "cell_type": "markdown",
      "metadata": {
        "id": "-YAGFOpRP6-A"
      },
      "source": [
        "data cleaning\n",
        "\n",
        "1.   convert & to and\n",
        "2.   lowercase to the text\n",
        "3.   Remove Unicode characters\n",
        "4.   Remove stop words\n",
        "      *   stop words is a type of word that has no significant contribution to the meaning of the text\n",
        "      *   Use NLTK library \n",
        "    \n",
        "5.   Remove terms like mentions, hashtags, links, and more.\n",
        "\n",
        "\n"
      ]
    },
    {
      "cell_type": "markdown",
      "metadata": {
        "id": "khp5mV77P8vi"
      },
      "source": [
        "1. convert & to and"
      ]
    },
    {
      "cell_type": "code",
      "metadata": {
        "id": "K291gWQ0NcMs"
      },
      "source": [
        "s = 'Global oil prices rise after US President Donald Trump said he expects Saudi Arabia &amp; Russia to reach a deal soon to end price war. Trump to meet Exxon Mobil &amp; Chevron on Friday #COVID19Pandemic #coronavirus https://t.co/w3uWv4jnjW'"
      ],
      "execution_count": null,
      "outputs": []
    },
    {
      "cell_type": "code",
      "metadata": {
        "colab": {
          "base_uri": "https://localhost:8080/",
          "height": 53
        },
        "id": "flECCsRaORwM",
        "outputId": "4bfcfe4a-a143-4a2a-c419-0c1ddce0187e"
      },
      "source": [
        "s"
      ],
      "execution_count": null,
      "outputs": [
        {
          "output_type": "execute_result",
          "data": {
            "application/vnd.google.colaboratory.intrinsic+json": {
              "type": "string"
            },
            "text/plain": [
              "'Global oil prices rise after US President Donald Trump said he expects Saudi Arabia &amp; Russia to reach a deal soon to end price war. Trump to meet Exxon Mobil &amp; Chevron on Friday #COVID19Pandemic #coronavirus https://t.co/w3uWv4jnjW'"
            ]
          },
          "metadata": {
            "tags": []
          },
          "execution_count": 45
        }
      ]
    },
    {
      "cell_type": "code",
      "metadata": {
        "id": "ZZ-sUocaNdGv"
      },
      "source": [
        "s = s.replace('&amp;', 'and')"
      ],
      "execution_count": null,
      "outputs": []
    },
    {
      "cell_type": "markdown",
      "metadata": {
        "id": "DiRpcRJkO1jq"
      },
      "source": [
        "\n",
        "2. lowercase to the text"
      ]
    },
    {
      "cell_type": "code",
      "metadata": {
        "colab": {
          "base_uri": "https://localhost:8080/",
          "height": 53
        },
        "id": "2hfyIx36P3Xr",
        "outputId": "2a5c7acc-c31d-4b00-8052-0814623a7a75"
      },
      "source": [
        "s = s.lower()\n",
        "s"
      ],
      "execution_count": null,
      "outputs": [
        {
          "output_type": "execute_result",
          "data": {
            "application/vnd.google.colaboratory.intrinsic+json": {
              "type": "string"
            },
            "text/plain": [
              "'global oil prices rise after us president donald trump said he expects saudi arabia and russia to reach a deal soon to end price war. trump to meet exxon mobil and chevron on friday #covid19pandemic #coronavirus https://t.co/w3uwv4jnjw'"
            ]
          },
          "metadata": {
            "tags": []
          },
          "execution_count": 50
        }
      ]
    },
    {
      "cell_type": "markdown",
      "metadata": {
        "id": "H9lSym6MQW_F"
      },
      "source": [
        "3. Remove Unicode characters"
      ]
    },
    {
      "cell_type": "code",
      "metadata": {
        "colab": {
          "base_uri": "https://localhost:8080/",
          "height": 53
        },
        "id": "e_bKzPAcQWSr",
        "outputId": "02544bba-7278-43f9-d7fa-cba72aef11da"
      },
      "source": [
        "t =\"Reddit Will Now QuarantineÛ_ http://t.co/pkUAMXw6pm #onlinecommunities #reddit #amageddon #freespeech #Business http://t.co/PAWvNJ4sAP\"\n",
        "t"
      ],
      "execution_count": null,
      "outputs": [
        {
          "output_type": "execute_result",
          "data": {
            "application/vnd.google.colaboratory.intrinsic+json": {
              "type": "string"
            },
            "text/plain": [
              "'Reddit Will Now Quarantine\\x89Û_ http://t.co/pkUAMXw6pm #onlinecommunities #reddit #amageddon #freespeech #Business http://t.co/PAWvNJ4sAP'"
            ]
          },
          "metadata": {
            "tags": []
          },
          "execution_count": 54
        }
      ]
    },
    {
      "cell_type": "code",
      "metadata": {
        "colab": {
          "base_uri": "https://localhost:8080/",
          "height": 35
        },
        "id": "TTE53TEbQsTh",
        "outputId": "5f67a1f4-d590-450b-de63-7809bdd0cd91"
      },
      "source": [
        "t = t.encode('ascii', 'ignore').decode()\n",
        "t"
      ],
      "execution_count": null,
      "outputs": [
        {
          "output_type": "execute_result",
          "data": {
            "application/vnd.google.colaboratory.intrinsic+json": {
              "type": "string"
            },
            "text/plain": [
              "'Reddit Will Now Quarantine_ http://t.co/pkUAMXw6pm #onlinecommunities #reddit #amageddon #freespeech #Business http://t.co/PAWvNJ4sAP'"
            ]
          },
          "metadata": {
            "tags": []
          },
          "execution_count": 56
        }
      ]
    },
    {
      "cell_type": "markdown",
      "metadata": {
        "id": "5DEZAaM0Q0up"
      },
      "source": [
        "4. remove stop words"
      ]
    },
    {
      "cell_type": "code",
      "metadata": {
        "id": "uSkvmRNRQ304"
      },
      "source": [
        "import nltk\n",
        "nltk.download('all')"
      ],
      "execution_count": null,
      "outputs": []
    },
    {
      "cell_type": "code",
      "metadata": {
        "colab": {
          "base_uri": "https://localhost:8080/",
          "height": 35
        },
        "id": "x_F46r-gR4w7",
        "outputId": "9ef0f675-6933-44c6-9095-cfc58b6b3bfd"
      },
      "source": [
        "from nltk.corpus import stopwords \n",
        "from nltk.tokenize import word_tokenize \n",
        "\n",
        "stop_words = set(stopwords.words('english'))\n",
        "\n",
        "t = ' '.join([word for word in t.split(' ') if word not in stop_words])\n",
        "t"
      ],
      "execution_count": null,
      "outputs": [
        {
          "output_type": "execute_result",
          "data": {
            "application/vnd.google.colaboratory.intrinsic+json": {
              "type": "string"
            },
            "text/plain": [
              "'Reddit Will Now Quarantine_  #onlinecommunities #reddit #amageddon #freespeech #Business '"
            ]
          },
          "metadata": {
            "tags": []
          },
          "execution_count": 68
        }
      ]
    },
    {
      "cell_type": "markdown",
      "metadata": {
        "id": "GiXdw6usSeP6"
      },
      "source": [
        "Remove terms like mentions, hashtags, links, and more"
      ]
    },
    {
      "cell_type": "code",
      "metadata": {
        "colab": {
          "base_uri": "https://localhost:8080/"
        },
        "id": "_nba5CSDSfgl",
        "outputId": "8434bd15-133f-427c-9751-0edf664901a0"
      },
      "source": [
        "import re\n",
        "# Remove mentions\n",
        "x = \"@DDNewsLive @NitishKumar  and @ArvindKejriwal can't survive without referring @@narendramodi . Without Mr Modi they are BIG ZEROS\"\n",
        "x = re.sub(\"@\\S+\", \" \", x)\n",
        "print(x)\n",
        "\n",
        "\n"
      ],
      "execution_count": null,
      "outputs": [
        {
          "output_type": "stream",
          "text": [
            "     and   can't survive without referring   . Without Mr Modi they are BIG ZEROS\n"
          ],
          "name": "stdout"
        }
      ]
    },
    {
      "cell_type": "code",
      "metadata": {
        "colab": {
          "base_uri": "https://localhost:8080/"
        },
        "id": "ntR_NgkLS1Sf",
        "outputId": "c24d1e44-e522-4503-a160-c6e8768234d7"
      },
      "source": [
        "# Remove URL\n",
        "x = \"Severe Thunderstorm pictures from across the Mid-South http://t.co/UZWLgJQzNS\"\n",
        "x = re.sub(\"https*\\S+\", \" \", x)\n",
        "print(x)\n",
        "\n"
      ],
      "execution_count": null,
      "outputs": [
        {
          "output_type": "stream",
          "text": [
            "Severe Thunderstorm pictures from across the Mid-South  \n"
          ],
          "name": "stdout"
        }
      ]
    },
    {
      "cell_type": "code",
      "metadata": {
        "colab": {
          "base_uri": "https://localhost:8080/"
        },
        "id": "yJE1NIcyS2wQ",
        "outputId": "129bc4c9-6fc5-48f0-efa2-268839b39f11"
      },
      "source": [
        "# Remove Hashtags\n",
        "x = \"Are people not concerned that after #SLAB's obliteration in Scotland #Labour UK is ripping itself apart over #Labourleadership contest?\"\n",
        "x = re.sub(\"#\\S+\", \" \", x)\n",
        "print(x)\n",
        "\n"
      ],
      "execution_count": null,
      "outputs": [
        {
          "output_type": "stream",
          "text": [
            "Are people not concerned that after   obliteration in Scotland   UK is ripping itself apart over   contest?\n"
          ],
          "name": "stdout"
        }
      ]
    },
    {
      "cell_type": "code",
      "metadata": {
        "colab": {
          "base_uri": "https://localhost:8080/"
        },
        "id": "d6nLPeZ2S4tP",
        "outputId": "35dcd35c-01df-4ce1-f7eb-04eb22439e83"
      },
      "source": [
        "# Remove ticks and the next character\n",
        "x = \"Notley's tactful yet very direct response to Harper's attack on Alberta's gov't. Hell YEAH Premier! http://t.co/rzSUlzMOkX #ableg #cdnpoli\"\n",
        "x = re.sub(\"\\'\\w+\", '', x)\n",
        "print(x)\n",
        "\n"
      ],
      "execution_count": null,
      "outputs": [
        {
          "output_type": "stream",
          "text": [
            "Notley tactful yet very direct response to Harper attack on Alberta gov. Hell YEAH Premier! http://t.co/rzSUlzMOkX #ableg #cdnpoli\n"
          ],
          "name": "stdout"
        }
      ]
    },
    {
      "cell_type": "code",
      "metadata": {
        "colab": {
          "base_uri": "https://localhost:8080/"
        },
        "id": "3NjT_c4mS6l9",
        "outputId": "e9bf3923-0cb0-4ab1-97bc-0db2e909c29d"
      },
      "source": [
        "# Remove punctuations\n",
        "x = \"In 2014 I will only smoke crqck if I becyme a mayor. This includes Foursquare.\"\n",
        "x = re.sub('[%s]' % re.escape(string.punctuation), ' ', x)\n",
        "print(x)\n",
        "\n"
      ],
      "execution_count": null,
      "outputs": [
        {
          "output_type": "stream",
          "text": [
            "In 2014 I will only smoke crqck if I becyme a mayor  This includes Foursquare \n"
          ],
          "name": "stdout"
        }
      ]
    },
    {
      "cell_type": "code",
      "metadata": {
        "colab": {
          "base_uri": "https://localhost:8080/"
        },
        "id": "oYVcV7b_S79c",
        "outputId": "a9098977-1522-4c5c-8960-85478261e14f"
      },
      "source": [
        "# Remove numbers\n",
        "x = \"C-130 specially modified to land in a stadium and rescue hostages in Iran in 1980... http://t.co/tNI92fea3u http://t.co/czBaMzq3gL\"\n",
        "x = re.sub(r'\\w*\\d+\\w*', '', x)\n",
        "print(x)\n",
        "\n"
      ],
      "execution_count": null,
      "outputs": [
        {
          "output_type": "stream",
          "text": [
            "C- specially modified to land in a stadium and rescue hostages in Iran in ... http://t.co/ http://t.co/\n"
          ],
          "name": "stdout"
        }
      ]
    },
    {
      "cell_type": "code",
      "metadata": {
        "colab": {
          "base_uri": "https://localhost:8080/"
        },
        "id": "0h2o5SXuS9RH",
        "outputId": "a2cc630e-7cad-4634-f623-b97a2e2edf47"
      },
      "source": [
        "# Replace the over spaces\n",
        "x = \"     and   can't survive without referring   . Without Mr Modi they are BIG ZEROS\"\n",
        "x = re.sub('\\s{2,}', \" \", x)\n",
        "print(x)"
      ],
      "execution_count": null,
      "outputs": [
        {
          "output_type": "stream",
          "text": [
            " and can't survive without referring . Without Mr Modi they are BIG ZEROS\n"
          ],
          "name": "stdout"
        }
      ]
    },
    {
      "cell_type": "markdown",
      "metadata": {
        "id": "GFcqELKOTChY"
      },
      "source": [
        "combine them"
      ]
    },
    {
      "cell_type": "code",
      "metadata": {
        "id": "1Eeaj6iHTFzU"
      },
      "source": [
        "import numpy as np\n",
        "import matplotlib.pyplot as plt\n",
        "import pandas as pd\n",
        "import re\n",
        "import nltk\n",
        "import string\n",
        "from nltk.corpus import stopwords\n",
        "\n",
        "nltk.download('all')\n",
        "\n",
        "stop_words = set(stopwords.words('english'))\n",
        "\n",
        "cleaned_text = []\n",
        "\n",
        "def clean_text(text_column):\n",
        "\n",
        "\n",
        "  for text in text_column:\n",
        "    #text = text.lower()\n",
        "    #text = ' '.join([word for word in text.split(' ') if word not in stop_words])\n",
        "    text = text.replace('&amp;', 'and')\n",
        "    text = text.encode('ascii', 'ignore').decode()\n",
        "    text = re.sub(r'https*\\S+', ' ', text)\n",
        "    #text = re.sub(r'@\\S+', ' ', text)\n",
        "    #text = re.sub(r'#\\S+', ' ', text)\n",
        "    #text = re.sub(r'\\'\\w+', '', text)\n",
        "    #text = re.sub('[%s]' % re.escape(string.punctuation), ' ', text)\n",
        "    #text = re.sub(r'\\w*\\d+\\w*', '', text)\n",
        "    #text = re.sub(r'\\s{2,}', ' ', text)\n",
        "    cleaned_text.append(text)\n",
        "  \n",
        "  df['cleaned_text'] = cleaned_text\n",
        "  return df\n"
      ],
      "execution_count": null,
      "outputs": []
    },
    {
      "cell_type": "code",
      "metadata": {
        "colab": {
          "base_uri": "https://localhost:8080/",
          "height": 71
        },
        "id": "wvWHRc_BUBX_",
        "outputId": "2b69524e-526e-46ae-a198-79cc18f14d8d"
      },
      "source": [
        "text = data.iloc[4]['OriginalTweet']\n",
        "text"
      ],
      "execution_count": null,
      "outputs": [
        {
          "output_type": "execute_result",
          "data": {
            "application/vnd.google.colaboratory.intrinsic+json": {
              "type": "string"
            },
            "text/plain": [
              "\"#boycottmcdonalds \\r\\r\\nThe people making your food could have #Coronavirus as McDonald's won't let its  employees wear masks!\\r\\r\\nMcDonaldÂ\\x92s Workers Demand Greater Safety and Economic Protection as COVID-19 Pandemic Intensifies - Fight for $15 https://t.co/5ZNUZXcMQO #FightFor15\""
            ]
          },
          "metadata": {
            "tags": []
          },
          "execution_count": 86
        }
      ]
    },
    {
      "cell_type": "code",
      "metadata": {
        "id": "5RmgdML3XTQE"
      },
      "source": [
        "res_df = clean_text(df['OriginalTweet'])"
      ],
      "execution_count": null,
      "outputs": []
    },
    {
      "cell_type": "code",
      "metadata": {
        "colab": {
          "base_uri": "https://localhost:8080/"
        },
        "id": "0D9leRAXX6LD",
        "outputId": "0c9705e7-0284-4a8d-d970-c0819382c939"
      },
      "source": [
        "train, test = train_test_split(range(len(res_df)), test_size = 0.3)\n",
        "train_df = res_df.iloc[train]\n",
        "test_df = res_df.iloc[test]\n",
        "train_df.shape, test_df.shape"
      ],
      "execution_count": null,
      "outputs": [
        {
          "output_type": "execute_result",
          "data": {
            "text/plain": [
              "((28809, 3), (12348, 3))"
            ]
          },
          "metadata": {
            "tags": []
          },
          "execution_count": 11
        }
      ]
    },
    {
      "cell_type": "code",
      "metadata": {
        "colab": {
          "base_uri": "https://localhost:8080/",
          "height": 397
        },
        "id": "_dqwi1p9X7Xc",
        "outputId": "9b5d9079-322f-40c0-9dcc-b2801cd0756a"
      },
      "source": [
        "train_df.head()"
      ],
      "execution_count": null,
      "outputs": [
        {
          "output_type": "execute_result",
          "data": {
            "text/html": [
              "<div>\n",
              "<style scoped>\n",
              "    .dataframe tbody tr th:only-of-type {\n",
              "        vertical-align: middle;\n",
              "    }\n",
              "\n",
              "    .dataframe tbody tr th {\n",
              "        vertical-align: top;\n",
              "    }\n",
              "\n",
              "    .dataframe thead th {\n",
              "        text-align: right;\n",
              "    }\n",
              "</style>\n",
              "<table border=\"1\" class=\"dataframe\">\n",
              "  <thead>\n",
              "    <tr style=\"text-align: right;\">\n",
              "      <th></th>\n",
              "      <th>OriginalTweet</th>\n",
              "      <th>Sentiment</th>\n",
              "      <th>cleaned_text</th>\n",
              "    </tr>\n",
              "  </thead>\n",
              "  <tbody>\n",
              "    <tr>\n",
              "      <th>20468</th>\n",
              "      <td>Look at the massive amount of CEOs which are all pedophiles have stepped down</td>\n",
              "      <td>Neutral</td>\n",
              "      <td>Look at the massive amount of CEOs which are all pedophiles have stepped down</td>\n",
              "    </tr>\n",
              "    <tr>\n",
              "      <th>36278</th>\n",
              "      <td>In Praise of Preppers: Thanks to a community that has literally been waiting for this day to come, thereÂs now an online shopping industry to help you prepare for the COVID-19 apocalypse. https://t.co/c9FsNMaC7n</td>\n",
              "      <td>Extremely Positive</td>\n",
              "      <td>In Praise of Preppers: Thanks to a community that has literally been waiting for this day to come, theres now an online shopping industry to help you prepare for the COVID-19 apocalypse.</td>\n",
              "    </tr>\n",
              "    <tr>\n",
              "      <th>15665</th>\n",
              "      <td>best recipe for handmade sanitizer ... it really works! #Coronavirus .... https://t.co/bTaoQMBAn1</td>\n",
              "      <td>Extremely Positive</td>\n",
              "      <td>best recipe for handmade sanitizer ... it really works! #Coronavirus ....</td>\n",
              "    </tr>\n",
              "    <tr>\n",
              "      <th>38348</th>\n",
              "      <td>Last week the amp took unprecedented action to try and stop related scam from bombarding American consumers demanding that gateway providers cut off robocallers in 48 hours or risk losing all access to U S phone network</td>\n",
              "      <td>Extremely Negative</td>\n",
              "      <td>Last week the amp took unprecedented action to try and stop related scam from bombarding American consumers demanding that gateway providers cut off robocallers in 48 hours or risk losing all access to U S phone network</td>\n",
              "    </tr>\n",
              "    <tr>\n",
              "      <th>32507</th>\n",
              "      <td>The rise in consumer prices eased to 2.5 percent year-on-year in March due mainly to the price freeze put in place by the government under the nationwide state of calamity amid the COVID-19 pandemic and the decline in the global prices of oil. https://t.co/YKjhJhs9eE</td>\n",
              "      <td>Positive</td>\n",
              "      <td>The rise in consumer prices eased to 2.5 percent year-on-year in March due mainly to the price freeze put in place by the government under the nationwide state of calamity amid the COVID-19 pandemic and the decline in the global prices of oil.</td>\n",
              "    </tr>\n",
              "  </tbody>\n",
              "</table>\n",
              "</div>"
            ],
            "text/plain": [
              "                                                                                                                                                                                                                                                                     OriginalTweet  \\\n",
              "20468                                                                                                                                                                                              Look at the massive amount of CEOs which are all pedophiles have stepped down     \n",
              "36278                                                         In Praise of Preppers: Thanks to a community that has literally been waiting for this day to come, thereÂs now an online shopping industry to help you prepare for the COVID-19 apocalypse. https://t.co/c9FsNMaC7n   \n",
              "15665                                                                                                                                                                            best recipe for handmade sanitizer ... it really works! #Coronavirus .... https://t.co/bTaoQMBAn1   \n",
              "38348                                                  Last week the amp took unprecedented action to try and stop related scam from bombarding American consumers demanding that gateway providers cut off robocallers in 48 hours or risk losing all access to U S phone network   \n",
              "32507  The rise in consumer prices eased to 2.5 percent year-on-year in March due mainly to the price freeze put in place by the government under the nationwide state of calamity amid the COVID-19 pandemic and the decline in the global prices of oil. https://t.co/YKjhJhs9eE   \n",
              "\n",
              "                Sentiment  \\\n",
              "20468             Neutral   \n",
              "36278  Extremely Positive   \n",
              "15665  Extremely Positive   \n",
              "38348  Extremely Negative   \n",
              "32507            Positive   \n",
              "\n",
              "                                                                                                                                                                                                                                                cleaned_text  \n",
              "20468                                                                                                                                                                        Look at the massive amount of CEOs which are all pedophiles have stepped down    \n",
              "36278                                                           In Praise of Preppers: Thanks to a community that has literally been waiting for this day to come, theres now an online shopping industry to help you prepare for the COVID-19 apocalypse.    \n",
              "15665                                                                                                                                                                            best recipe for handmade sanitizer ... it really works! #Coronavirus ....    \n",
              "38348                            Last week the amp took unprecedented action to try and stop related scam from bombarding American consumers demanding that gateway providers cut off robocallers in 48 hours or risk losing all access to U S phone network  \n",
              "32507  The rise in consumer prices eased to 2.5 percent year-on-year in March due mainly to the price freeze put in place by the government under the nationwide state of calamity amid the COVID-19 pandemic and the decline in the global prices of oil.    "
            ]
          },
          "metadata": {
            "tags": []
          },
          "execution_count": 12
        }
      ]
    },
    {
      "cell_type": "code",
      "metadata": {
        "colab": {
          "base_uri": "https://localhost:8080/",
          "height": 72
        },
        "id": "YB8z6_J2uyt1",
        "outputId": "e04e944c-c544-448b-b8c9-3fd8d90ce061"
      },
      "source": [
        "dls = TextDataLoaders.from_df(train_df, text_col='cleaned_text', label_col='Sentiment', valid_pct=0.20, bs=64, is_lm = True)"
      ],
      "execution_count": null,
      "outputs": [
        {
          "output_type": "display_data",
          "data": {
            "text/html": [
              ""
            ],
            "text/plain": [
              "<IPython.core.display.HTML object>"
            ]
          },
          "metadata": {
            "tags": []
          }
        },
        {
          "output_type": "stream",
          "text": [
            "/usr/local/lib/python3.7/dist-packages/numpy/core/_asarray.py:83: VisibleDeprecationWarning: Creating an ndarray from ragged nested sequences (which is a list-or-tuple of lists-or-tuples-or ndarrays with different lengths or shapes) is deprecated. If you meant to do this, you must specify 'dtype=object' when creating the ndarray\n",
            "  return array(a, dtype, copy=False, order=order)\n"
          ],
          "name": "stderr"
        }
      ]
    },
    {
      "cell_type": "code",
      "metadata": {
        "colab": {
          "base_uri": "https://localhost:8080/",
          "height": 1000
        },
        "id": "F7TdG-xh1Uxd",
        "outputId": "cbc7f7f0-b7f8-4088-af2b-2ddc1550a57c"
      },
      "source": [
        "dls.show_batch() "
      ],
      "execution_count": null,
      "outputs": [
        {
          "output_type": "display_data",
          "data": {
            "text/html": [
              "<table border=\"1\" class=\"dataframe\">\n",
              "  <thead>\n",
              "    <tr style=\"text-align: right;\">\n",
              "      <th></th>\n",
              "      <th>text</th>\n",
              "      <th>text_</th>\n",
              "    </tr>\n",
              "  </thead>\n",
              "  <tbody>\n",
              "    <tr>\n",
              "      <th>0</th>\n",
              "      <td>xxbos i went to the grocery store and got the last of the good shit , left my shopping cart for two seconds to grab xxunk and xxunk and someone jacked me for my cart . xxmaj this shit getting out of hand . # coronavirus # xxunk # stayhome # wtf # xxmaj xxunk xxbos xxmaj waiting for my food shopping to arrive … how many items do you think will</td>\n",
              "      <td>i went to the grocery store and got the last of the good shit , left my shopping cart for two seconds to grab xxunk and xxunk and someone jacked me for my cart . xxmaj this shit getting out of hand . # coronavirus # xxunk # stayhome # wtf # xxmaj xxunk xxbos xxmaj waiting for my food shopping to arrive … how many items do you think will be</td>\n",
              "    </tr>\n",
              "    <tr>\n",
              "      <th>1</th>\n",
              "      <td>charging 7 for pocket size # handsanitizer they tell me you raised prices so they have to pass it on . xxmaj you can do better # pricegouging # coronavirus xxbos xxmaj online shopping my savings away ? # xxup covid2019 xxbos xxmaj xxunk xxmaj oil xxmaj cuts xxmaj prices xxmaj in xxmaj fight xxmaj against xxmaj covid-19 xxbos xxmaj there are no words to describe some levels of stupidity this is</td>\n",
              "      <td>7 for pocket size # handsanitizer they tell me you raised prices so they have to pass it on . xxmaj you can do better # pricegouging # coronavirus xxbos xxmaj online shopping my savings away ? # xxup covid2019 xxbos xxmaj xxunk xxmaj oil xxmaj cuts xxmaj prices xxmaj in xxmaj fight xxmaj against xxmaj covid-19 xxbos xxmaj there are no words to describe some levels of stupidity this is not</td>\n",
              "    </tr>\n",
              "    <tr>\n",
              "      <th>2</th>\n",
              "      <td>outbreak of is set to xxunk the woes of the residential real estate sector that has already been reeling from the adverse impact of the prevailing liquidity crunch says xxup md xxmaj liases xxmaj foras xxbos xxmaj cycleways and pedestrian routes make transport more resilient and fairer xxmaj they are immune to oil prices and quite resilient to extreme weather and viruses xxmaj they don t discriminate by income gender or race</td>\n",
              "      <td>of is set to xxunk the woes of the residential real estate sector that has already been reeling from the adverse impact of the prevailing liquidity crunch says xxup md xxmaj liases xxmaj foras xxbos xxmaj cycleways and pedestrian routes make transport more resilient and fairer xxmaj they are immune to oil prices and quite resilient to extreme weather and viruses xxmaj they don t discriminate by income gender or race xxbos</td>\n",
              "    </tr>\n",
              "    <tr>\n",
              "      <th>3</th>\n",
              "      <td>no condition to cope with # coronavirus . xxmaj its hospitals are death xxunk . xxmaj many of its doctors are among the xxunk m who have xxunk his rule . xxmaj global oil prices are now below xxmaj xxunk average cost of production . xxbos xxmaj china s reserves fell for the second consecutive month in xxmaj march to 3 06 trillion as the value of reserves in other currencies fell</td>\n",
              "      <td>condition to cope with # coronavirus . xxmaj its hospitals are death xxunk . xxmaj many of its doctors are among the xxunk m who have xxunk his rule . xxmaj global oil prices are now below xxmaj xxunk average cost of production . xxbos xxmaj china s reserves fell for the second consecutive month in xxmaj march to 3 06 trillion as the value of reserves in other currencies fell due</td>\n",
              "    </tr>\n",
              "    <tr>\n",
              "      <th>4</th>\n",
              "      <td># coronamemes # funny # xxmaj hysterical xxbos xxmaj current view on xxmaj brussels xxmaj airlines flight operations . xxmaj the airline is gradually reducing flights and will temporarily stop all flight operations as of xxmaj saturday 21 xxmaj march until xxmaj sunday 19 xxmaj april xxrep 3 ? # coronavirus # xxunk xxbos a recent report from xxunk shared that daily time spent in # apps on # xxmaj android devices</td>\n",
              "      <td>coronamemes # funny # xxmaj hysterical xxbos xxmaj current view on xxmaj brussels xxmaj airlines flight operations . xxmaj the airline is gradually reducing flights and will temporarily stop all flight operations as of xxmaj saturday 21 xxmaj march until xxmaj sunday 19 xxmaj april xxrep 3 ? # coronavirus # xxunk xxbos a recent report from xxunk shared that daily time spent in # apps on # xxmaj android devices increased</td>\n",
              "    </tr>\n",
              "    <tr>\n",
              "      <th>5</th>\n",
              "      <td>hand sanitizer and medical supplies to hospitals , first responders , and employees . # xxunk # xxunk # xxup covid19 xxbos \" the xxup us is asking other countries for everything from hand sanitizer to ventilators to help fight the coronavirus \" # xxmaj trump # coronavirus # assistance xxbos a xxunk , damaged consumer coming out of xxmaj covid-19 will emerge with different consumption and savings behaviors and go back</td>\n",
              "      <td>sanitizer and medical supplies to hospitals , first responders , and employees . # xxunk # xxunk # xxup covid19 xxbos \" the xxup us is asking other countries for everything from hand sanitizer to ventilators to help fight the coronavirus \" # xxmaj trump # coronavirus # assistance xxbos a xxunk , damaged consumer coming out of xxmaj covid-19 will emerge with different consumption and savings behaviors and go back to</td>\n",
              "    </tr>\n",
              "    <tr>\n",
              "      <th>6</th>\n",
              "      <td>to know xxbos xxup diy : xxmaj how to xxmaj make xxmaj hand xxmaj sanitizer at home via @youtube # covid19 # coronavirus # handsanitizer # xxup diy xxbos xxmaj this is what happens you fucking morons . # panicshopping # coronavirus # covid?19uk \\r\\r\\n▁ # holdchinaaccountable \\r\\r\\n xxmaj fury as bins xxunk with stockpilers out - of - date food panic bought in coronavirus supermarket raid xxbos xxmaj xxunk xxmaj xxunk</td>\n",
              "      <td>know xxbos xxup diy : xxmaj how to xxmaj make xxmaj hand xxmaj sanitizer at home via @youtube # covid19 # coronavirus # handsanitizer # xxup diy xxbos xxmaj this is what happens you fucking morons . # panicshopping # coronavirus # covid?19uk \\r\\r\\n▁ # holdchinaaccountable \\r\\r\\n xxmaj fury as bins xxunk with stockpilers out - of - date food panic bought in coronavirus supermarket raid xxbos xxmaj xxunk xxmaj xxunk residents</td>\n",
              "    </tr>\n",
              "    <tr>\n",
              "      <th>7</th>\n",
              "      <td>? \\r\\r\\n xxmaj that 's one hope of xxmaj australian farmers , according to a recent survey : xxbos xxmaj singapore # xxmaj covid_19 2020 \\r\\r\\n xxmaj impressive \\r\\r\\n xxmaj return of ' sense of normalcy ' observed at supermarkets and shops , say ministers | xxmaj video : xxbos xxmaj to the woman who tried to cut the line outside the grocery store yesterday and then argued with me and the</td>\n",
              "      <td>\\r\\r\\n xxmaj that 's one hope of xxmaj australian farmers , according to a recent survey : xxbos xxmaj singapore # xxmaj covid_19 2020 \\r\\r\\n xxmaj impressive \\r\\r\\n xxmaj return of ' sense of normalcy ' observed at supermarkets and shops , say ministers | xxmaj video : xxbos xxmaj to the woman who tried to cut the line outside the grocery store yesterday and then argued with me and the staff</td>\n",
              "    </tr>\n",
              "    <tr>\n",
              "      <th>8</th>\n",
              "      <td>imagine if you did n't know what it was - at all . xxunk is w / xxunk and xxunk on xxunk at xxunk to discuss what he found in the xxmaj east xxmaj bay . xxbos xxmaj just left the supermarket and look . xxmaj this is why xxup nyc numbers are so high and especially in this area in the xxup xxunk . xxmaj is this an essential business @nygovcuomo</td>\n",
              "      <td>if you did n't know what it was - at all . xxunk is w / xxunk and xxunk on xxunk at xxunk to discuss what he found in the xxmaj east xxmaj bay . xxbos xxmaj just left the supermarket and look . xxmaj this is why xxup nyc numbers are so high and especially in this area in the xxup xxunk . xxmaj is this an essential business @nygovcuomo ?</td>\n",
              "    </tr>\n",
              "  </tbody>\n",
              "</table>"
            ],
            "text/plain": [
              "<IPython.core.display.HTML object>"
            ]
          },
          "metadata": {
            "tags": []
          }
        }
      ]
    },
    {
      "cell_type": "code",
      "metadata": {
        "id": "XIokr5MKWM6a"
      },
      "source": [
        "learn = language_model_learner(\n",
        "    dls, AWD_LSTM, drop_mult = 0.3,\n",
        "    metrics=[accuracy, Perplexity()]).to_fp16()"
      ],
      "execution_count": null,
      "outputs": []
    },
    {
      "cell_type": "code",
      "metadata": {
        "colab": {
          "base_uri": "https://localhost:8080/",
          "height": 301
        },
        "id": "iFYvad-Vw0Qd",
        "outputId": "78cfa6d4-6120-4cf7-b3e9-21577ded25f1"
      },
      "source": [
        "learn.lr_find()"
      ],
      "execution_count": null,
      "outputs": [
        {
          "output_type": "display_data",
          "data": {
            "text/html": [
              ""
            ],
            "text/plain": [
              "<IPython.core.display.HTML object>"
            ]
          },
          "metadata": {
            "tags": []
          }
        },
        {
          "output_type": "execute_result",
          "data": {
            "text/plain": [
              "SuggestedLRs(lr_min=0.03630780577659607, lr_steep=0.02754228748381138)"
            ]
          },
          "metadata": {
            "tags": []
          },
          "execution_count": 81
        },
        {
          "output_type": "display_data",
          "data": {
            "image/png": "[encoded data removed]",
            "text/plain": [
              "<Figure size 432x288 with 1 Axes>"
            ]
          },
          "metadata": {
            "tags": [],
            "needs_background": "light"
          }
        }
      ]
    },
    {
      "cell_type": "code",
      "metadata": {
        "colab": {
          "base_uri": "https://localhost:8080/",
          "height": 137
        },
        "id": "24HRsTEEg2dd",
        "outputId": "81ae4ccf-8cd5-4311-9380-dfc0b3e5e055"
      },
      "source": [
        "\n",
        "learn.fit_one_cycle(3, 1e-2)\n"
      ],
      "execution_count": null,
      "outputs": [
        {
          "output_type": "display_data",
          "data": {
            "text/html": [
              "<table border=\"1\" class=\"dataframe\">\n",
              "  <thead>\n",
              "    <tr style=\"text-align: left;\">\n",
              "      <th>epoch</th>\n",
              "      <th>train_loss</th>\n",
              "      <th>valid_loss</th>\n",
              "      <th>accuracy</th>\n",
              "      <th>perplexity</th>\n",
              "      <th>time</th>\n",
              "    </tr>\n",
              "  </thead>\n",
              "  <tbody>\n",
              "    <tr>\n",
              "      <td>0</td>\n",
              "      <td>4.433806</td>\n",
              "      <td>4.233649</td>\n",
              "      <td>0.260683</td>\n",
              "      <td>68.968460</td>\n",
              "      <td>00:45</td>\n",
              "    </tr>\n",
              "    <tr>\n",
              "      <td>1</td>\n",
              "      <td>4.053947</td>\n",
              "      <td>4.079511</td>\n",
              "      <td>0.275032</td>\n",
              "      <td>59.116535</td>\n",
              "      <td>00:44</td>\n",
              "    </tr>\n",
              "    <tr>\n",
              "      <td>2</td>\n",
              "      <td>3.829497</td>\n",
              "      <td>4.057648</td>\n",
              "      <td>0.278280</td>\n",
              "      <td>57.838100</td>\n",
              "      <td>00:44</td>\n",
              "    </tr>\n",
              "  </tbody>\n",
              "</table>"
            ],
            "text/plain": [
              "<IPython.core.display.HTML object>"
            ]
          },
          "metadata": {
            "tags": []
          }
        }
      ]
    },
    {
      "cell_type": "code",
      "metadata": {
        "colab": {
          "base_uri": "https://localhost:8080/",
          "height": 302
        },
        "id": "PiUxMofOPxH3",
        "outputId": "8ebb1897-6c6d-4d3d-ebd1-0a83d25ce2f0"
      },
      "source": [
        "learn.freeze_to(-2)\n",
        "learn.lr_find()"
      ],
      "execution_count": null,
      "outputs": [
        {
          "output_type": "display_data",
          "data": {
            "text/html": [
              ""
            ],
            "text/plain": [
              "<IPython.core.display.HTML object>"
            ]
          },
          "metadata": {
            "tags": []
          }
        },
        {
          "output_type": "execute_result",
          "data": {
            "text/plain": [
              "SuggestedLRs(lr_min=0.0001737800776027143, lr_steep=9.999999747378752e-06)"
            ]
          },
          "metadata": {
            "tags": []
          },
          "execution_count": 22
        },
        {
          "output_type": "display_data",
          "data": {
            "image/png": "[encoded data removed]",
            "text/plain": [
              "<Figure size 432x288 with 1 Axes>"
            ]
          },
          "metadata": {
            "tags": [],
            "needs_background": "light"
          }
        }
      ]
    },
    {
      "cell_type": "code",
      "metadata": {
        "colab": {
          "base_uri": "https://localhost:8080/",
          "height": 137
        },
        "id": "c-BezEaMP7Y3",
        "outputId": "123a345a-b1e8-4b85-99cf-88f819d1e41e"
      },
      "source": [
        "learn.fit_one_cycle(3, slice(1e-3, 1e-2))"
      ],
      "execution_count": null,
      "outputs": [
        {
          "output_type": "display_data",
          "data": {
            "text/html": [
              "<table border=\"1\" class=\"dataframe\">\n",
              "  <thead>\n",
              "    <tr style=\"text-align: left;\">\n",
              "      <th>epoch</th>\n",
              "      <th>train_loss</th>\n",
              "      <th>valid_loss</th>\n",
              "      <th>accuracy</th>\n",
              "      <th>perplexity</th>\n",
              "      <th>time</th>\n",
              "    </tr>\n",
              "  </thead>\n",
              "  <tbody>\n",
              "    <tr>\n",
              "      <td>0</td>\n",
              "      <td>3.848222</td>\n",
              "      <td>4.043449</td>\n",
              "      <td>0.279123</td>\n",
              "      <td>57.022671</td>\n",
              "      <td>00:45</td>\n",
              "    </tr>\n",
              "    <tr>\n",
              "      <td>1</td>\n",
              "      <td>3.656543</td>\n",
              "      <td>3.948255</td>\n",
              "      <td>0.293237</td>\n",
              "      <td>51.844810</td>\n",
              "      <td>00:44</td>\n",
              "    </tr>\n",
              "    <tr>\n",
              "      <td>2</td>\n",
              "      <td>3.304791</td>\n",
              "      <td>3.958628</td>\n",
              "      <td>0.296113</td>\n",
              "      <td>52.385414</td>\n",
              "      <td>00:44</td>\n",
              "    </tr>\n",
              "  </tbody>\n",
              "</table>"
            ],
            "text/plain": [
              "<IPython.core.display.HTML object>"
            ]
          },
          "metadata": {
            "tags": []
          }
        }
      ]
    },
    {
      "cell_type": "code",
      "metadata": {
        "id": "ZhdxKYrZEqG9"
      },
      "source": [
        "learn.save_encoder('fine_enc')"
      ],
      "execution_count": null,
      "outputs": []
    },
    {
      "cell_type": "code",
      "metadata": {
        "colab": {
          "base_uri": "https://localhost:8080/",
          "height": 54
        },
        "id": "Wlxye4q3FFIY",
        "outputId": "045e509b-c7f3-45f0-fc86-f19a05a3cb58"
      },
      "source": [
        "TEXT = 'our lifestyle is'\n",
        "N_WORDS = 40\n",
        "N_SENTENCES = 2\n",
        "preds = [learn.predict(TEXT, N_WORDS, temperature=0.75) for _ in range(N_SENTENCES)]\n",
        "print(preds)"
      ],
      "execution_count": null,
      "outputs": [
        {
          "output_type": "display_data",
          "data": {
            "text/html": [
              ""
            ],
            "text/plain": [
              "<IPython.core.display.HTML object>"
            ]
          },
          "metadata": {
            "tags": []
          }
        },
        {
          "output_type": "display_data",
          "data": {
            "text/html": [
              ""
            ],
            "text/plain": [
              "<IPython.core.display.HTML object>"
            ]
          },
          "metadata": {
            "tags": []
          }
        },
        {
          "output_type": "stream",
          "text": [
            "[\"our lifestyle is lockdownuk except for the last nursing shift . The ' toilet paper ' is now out of stock … # coronavirus # food # COVIDIOT For those who need to stock or hoard , there s\", \"our lifestyle is strong and has been strong since the start of the COVID-19 crisis . \\r\\r\\n\\r\\r\\n It 's the beginning of the end for fracking - In a couple weeks prices have been mixed as the coronavirus outbreak\"]\n"
          ],
          "name": "stdout"
        }
      ]
    },
    {
      "cell_type": "code",
      "metadata": {
        "colab": {
          "base_uri": "https://localhost:8080/",
          "height": 397
        },
        "id": "PvvQD1Hs0Ovt",
        "outputId": "0958af60-fab5-4295-d11f-d8206fae5c06"
      },
      "source": [
        "train_df.head()"
      ],
      "execution_count": null,
      "outputs": [
        {
          "output_type": "execute_result",
          "data": {
            "text/html": [
              "<div>\n",
              "<style scoped>\n",
              "    .dataframe tbody tr th:only-of-type {\n",
              "        vertical-align: middle;\n",
              "    }\n",
              "\n",
              "    .dataframe tbody tr th {\n",
              "        vertical-align: top;\n",
              "    }\n",
              "\n",
              "    .dataframe thead th {\n",
              "        text-align: right;\n",
              "    }\n",
              "</style>\n",
              "<table border=\"1\" class=\"dataframe\">\n",
              "  <thead>\n",
              "    <tr style=\"text-align: right;\">\n",
              "      <th></th>\n",
              "      <th>OriginalTweet</th>\n",
              "      <th>Sentiment</th>\n",
              "      <th>cleaned_text</th>\n",
              "    </tr>\n",
              "  </thead>\n",
              "  <tbody>\n",
              "    <tr>\n",
              "      <th>20468</th>\n",
              "      <td>Look at the massive amount of CEOs which are all pedophiles have stepped down</td>\n",
              "      <td>Neutral</td>\n",
              "      <td>Look at the massive amount of CEOs which are all pedophiles have stepped down</td>\n",
              "    </tr>\n",
              "    <tr>\n",
              "      <th>36278</th>\n",
              "      <td>In Praise of Preppers: Thanks to a community that has literally been waiting for this day to come, thereÂs now an online shopping industry to help you prepare for the COVID-19 apocalypse. https://t.co/c9FsNMaC7n</td>\n",
              "      <td>Extremely Positive</td>\n",
              "      <td>In Praise of Preppers: Thanks to a community that has literally been waiting for this day to come, theres now an online shopping industry to help you prepare for the COVID-19 apocalypse.</td>\n",
              "    </tr>\n",
              "    <tr>\n",
              "      <th>15665</th>\n",
              "      <td>best recipe for handmade sanitizer ... it really works! #Coronavirus .... https://t.co/bTaoQMBAn1</td>\n",
              "      <td>Extremely Positive</td>\n",
              "      <td>best recipe for handmade sanitizer ... it really works! #Coronavirus ....</td>\n",
              "    </tr>\n",
              "    <tr>\n",
              "      <th>38348</th>\n",
              "      <td>Last week the amp took unprecedented action to try and stop related scam from bombarding American consumers demanding that gateway providers cut off robocallers in 48 hours or risk losing all access to U S phone network</td>\n",
              "      <td>Extremely Negative</td>\n",
              "      <td>Last week the amp took unprecedented action to try and stop related scam from bombarding American consumers demanding that gateway providers cut off robocallers in 48 hours or risk losing all access to U S phone network</td>\n",
              "    </tr>\n",
              "    <tr>\n",
              "      <th>32507</th>\n",
              "      <td>The rise in consumer prices eased to 2.5 percent year-on-year in March due mainly to the price freeze put in place by the government under the nationwide state of calamity amid the COVID-19 pandemic and the decline in the global prices of oil. https://t.co/YKjhJhs9eE</td>\n",
              "      <td>Positive</td>\n",
              "      <td>The rise in consumer prices eased to 2.5 percent year-on-year in March due mainly to the price freeze put in place by the government under the nationwide state of calamity amid the COVID-19 pandemic and the decline in the global prices of oil.</td>\n",
              "    </tr>\n",
              "  </tbody>\n",
              "</table>\n",
              "</div>"
            ],
            "text/plain": [
              "                                                                                                                                                                                                                                                                     OriginalTweet  \\\n",
              "20468                                                                                                                                                                                              Look at the massive amount of CEOs which are all pedophiles have stepped down     \n",
              "36278                                                         In Praise of Preppers: Thanks to a community that has literally been waiting for this day to come, thereÂs now an online shopping industry to help you prepare for the COVID-19 apocalypse. https://t.co/c9FsNMaC7n   \n",
              "15665                                                                                                                                                                            best recipe for handmade sanitizer ... it really works! #Coronavirus .... https://t.co/bTaoQMBAn1   \n",
              "38348                                                  Last week the amp took unprecedented action to try and stop related scam from bombarding American consumers demanding that gateway providers cut off robocallers in 48 hours or risk losing all access to U S phone network   \n",
              "32507  The rise in consumer prices eased to 2.5 percent year-on-year in March due mainly to the price freeze put in place by the government under the nationwide state of calamity amid the COVID-19 pandemic and the decline in the global prices of oil. https://t.co/YKjhJhs9eE   \n",
              "\n",
              "                Sentiment  \\\n",
              "20468             Neutral   \n",
              "36278  Extremely Positive   \n",
              "15665  Extremely Positive   \n",
              "38348  Extremely Negative   \n",
              "32507            Positive   \n",
              "\n",
              "                                                                                                                                                                                                                                                cleaned_text  \n",
              "20468                                                                                                                                                                        Look at the massive amount of CEOs which are all pedophiles have stepped down    \n",
              "36278                                                           In Praise of Preppers: Thanks to a community that has literally been waiting for this day to come, theres now an online shopping industry to help you prepare for the COVID-19 apocalypse.    \n",
              "15665                                                                                                                                                                            best recipe for handmade sanitizer ... it really works! #Coronavirus ....    \n",
              "38348                            Last week the amp took unprecedented action to try and stop related scam from bombarding American consumers demanding that gateway providers cut off robocallers in 48 hours or risk losing all access to U S phone network  \n",
              "32507  The rise in consumer prices eased to 2.5 percent year-on-year in March due mainly to the price freeze put in place by the government under the nationwide state of calamity amid the COVID-19 pandemic and the decline in the global prices of oil.    "
            ]
          },
          "metadata": {
            "tags": []
          },
          "execution_count": 32
        }
      ]
    },
    {
      "cell_type": "code",
      "metadata": {
        "colab": {
          "base_uri": "https://localhost:8080/",
          "height": 72
        },
        "id": "jg5q6Ai8AiV7",
        "outputId": "99c84869-4fc9-4782-d73e-247b2af6b921"
      },
      "source": [
        "data_clas = TextDataLoaders.from_df(train_df, text_col= 2, label_col= 1, valid_pct=0.20, bs=64)"
      ],
      "execution_count": null,
      "outputs": [
        {
          "output_type": "display_data",
          "data": {
            "text/html": [
              ""
            ],
            "text/plain": [
              "<IPython.core.display.HTML object>"
            ]
          },
          "metadata": {
            "tags": []
          }
        },
        {
          "output_type": "stream",
          "text": [
            "/usr/local/lib/python3.7/dist-packages/numpy/core/_asarray.py:83: VisibleDeprecationWarning: Creating an ndarray from ragged nested sequences (which is a list-or-tuple of lists-or-tuples-or ndarrays with different lengths or shapes) is deprecated. If you meant to do this, you must specify 'dtype=object' when creating the ndarray\n",
            "  return array(a, dtype, copy=False, order=order)\n"
          ],
          "name": "stderr"
        }
      ]
    },
    {
      "cell_type": "code",
      "metadata": {
        "colab": {
          "base_uri": "https://localhost:8080/",
          "height": 72
        },
        "id": "Z_7SH98fH2Fz",
        "outputId": "d6c0a053-0797-49e3-eb9d-0a9a46e9211e"
      },
      "source": [
        "test = TextDataLoaders.from_df(test_df, text_col= 2, label_col= 1)"
      ],
      "execution_count": null,
      "outputs": [
        {
          "output_type": "display_data",
          "data": {
            "text/html": [
              ""
            ],
            "text/plain": [
              "<IPython.core.display.HTML object>"
            ]
          },
          "metadata": {
            "tags": []
          }
        },
        {
          "output_type": "stream",
          "text": [
            "/usr/local/lib/python3.7/dist-packages/numpy/core/_asarray.py:83: VisibleDeprecationWarning: Creating an ndarray from ragged nested sequences (which is a list-or-tuple of lists-or-tuples-or ndarrays with different lengths or shapes) is deprecated. If you meant to do this, you must specify 'dtype=object' when creating the ndarray\n",
            "  return array(a, dtype, copy=False, order=order)\n"
          ],
          "name": "stderr"
        }
      ]
    },
    {
      "cell_type": "code",
      "metadata": {
        "colab": {
          "base_uri": "https://localhost:8080/",
          "height": 431
        },
        "id": "NlsXG-r0LrHb",
        "outputId": "8eca9659-a778-435b-aa2d-bb63cabdaabf"
      },
      "source": [
        "data_clas.show_batch(max_n=5)"
      ],
      "execution_count": null,
      "outputs": [
        {
          "output_type": "display_data",
          "data": {
            "text/html": [
              "<table border=\"1\" class=\"dataframe\">\n",
              "  <thead>\n",
              "    <tr style=\"text-align: right;\">\n",
              "      <th></th>\n",
              "      <th>text</th>\n",
              "      <th>category</th>\n",
              "    </tr>\n",
              "  </thead>\n",
              "  <tbody>\n",
              "    <tr>\n",
              "      <th>0</th>\n",
              "      <td>xxbos xxrep 5 ? ? ? xxrep 7 ? ? ? xxrep 7 ? xxrep 4 ? xxrep 4 ? xxrep 11 ? ? ? xxrep 6 ? xxrep 4 ? , xxrep 3 ? xxrep 3 ? ? ? xxrep 3 ? xxrep 4 ? xxrep 3 ? ? ? ? ? xxrep 4 ? ? ? xxrep 3 ? , xxrep 4 ? ? ? ? ? xxrep 6 ? xxrep 3 ? xxrep 3 ? xxrep 3 ? ? ? xxrep 3 ? \\r\\r\\n▁ xxrep 5 ? xxrep 6 ? ? ? xxrep 3 ? xxrep 4 ? xxrep 4 ? ? ? xxrep 4 ? xxrep 6 ? xxrep 4 ? xxrep 8 ? ? ? xxrep 6 ? ? ? xxrep 5 ? ? ? xxrep 3 ? xxrep 4 ? ? ? xxrep 7 ? xxrep 5 ? - xxrep 8 ? xxrep 5</td>\n",
              "      <td>Neutral</td>\n",
              "    </tr>\n",
              "    <tr>\n",
              "      <th>1</th>\n",
              "      <td>xxbos ? ? xxrep 9 ? ? ? ? xxrep 6 ? xxrep 5 ? ? xxrep 6 ? ? ? xxrep 4 ? xxrep 4 ? xxrep 4 ? xxrep 6 ? xxrep 4 ? xxrep 3 ? xxrep 3 ? xxrep 4 ? xxrep 3 ? ? ? . \\r\\r\\n▁ xxrep 4 ? xxrep 10 ? xxrep 3 ? xxrep 4 ? xxrep 3 ? ? ? . ? ? ? ? xxrep 3 ? ? xxrep 4 ? xxrep 4 ? xxrep 4 ? xxrep 5 ? ? ? xxrep 3 ? ? ? xxrep 6 ? ? ? xxrep 3 ? xxrep 7 ? ? ? xxrep 3 ? xxrep 3 ? ? ? ? ? xxrep 5 ? xxrep 3 ? ? ? xxrep 4 ? xxrep 5 ? . \\r\\r\\n▁ xxrep 3 ? xxrep 3 ? ? ? ? ? xxrep 5 ? ?</td>\n",
              "      <td>Neutral</td>\n",
              "    </tr>\n",
              "    <tr>\n",
              "      <th>2</th>\n",
              "      <td>xxbos hiked prices in the face of the xxmaj covid-19 crises are listed below : \\r\\r\\n xxmaj xxunk xxmaj bazar xxunk xxmaj xxunk xxmaj road , xxup e1 xxunk . \\r\\r\\n xxmaj xxunk xxmaj bazaar 84 xxmaj xxunk xxmaj rd , xxup xxunk xxunk . \\r\\r\\n xxmaj fish xxmaj bazar xxunk xxmaj xxunk street , xxup e1 xxunk . \\r\\r\\n xxmaj xxunk xxmaj bazar xxunk - xxunk xxmaj xxunk xxmaj street , xxup e1 xxunk . \\r\\r\\n xxmaj xxunk xxmaj brother limited xxunk - xxunk xxmaj mile xxmaj end xxmaj xxunk</td>\n",
              "      <td>Negative</td>\n",
              "    </tr>\n",
              "    <tr>\n",
              "      <th>3</th>\n",
              "      <td>xxbos 20 / 03 / 20 ? \\r\\r\\n xxmaj looking to buy in : \\r\\r\\n▁ # spy xxup xxunk sandp xxunk $ 210 \\r\\r\\n▁ # xxunk xxmaj carnival xxmaj xxunk $ 9 \\r\\r\\n▁ # xxunk xxmaj royal xxmaj xxunk $ 15 \\r\\r\\n▁ # dal xxmaj delta xxmaj xxunk $ 16 \\r\\r\\n▁ # xxunk xxmaj united xxmaj xxunk $ 20 \\r\\r\\n xxmaj all would be a buy in my eyes at these prices # stocks # invest # coronavirus \\r\\r\\n xxmaj any ideas or thoughts drop below ? ?</td>\n",
              "      <td>Positive</td>\n",
              "    </tr>\n",
              "    <tr>\n",
              "      <th>4</th>\n",
              "      <td>xxbos xxmaj men , xxup step xxup the # xxup xxunk xxup up ! ! xxmaj during this # xxmaj coronavirus pandemic , xxmaj do xxup not allow your xxunk / childrens mom , to go to the supermarket with the kids ! ! xxup you xxup go ! ! xxmaj whether you live with her or not # xxup xxunk , xxup you # xxunk and xxup you take the risk for # xxup covid19 , not your kids . # xxunk ? ?</td>\n",
              "      <td>Negative</td>\n",
              "    </tr>\n",
              "  </tbody>\n",
              "</table>"
            ],
            "text/plain": [
              "<IPython.core.display.HTML object>"
            ]
          },
          "metadata": {
            "tags": []
          }
        }
      ]
    },
    {
      "cell_type": "code",
      "metadata": {
        "colab": {
          "base_uri": "https://localhost:8080/"
        },
        "id": "2nI5ZWP4F9W7",
        "outputId": "f3fed00d-7461-4509-9a21-852382b845eb"
      },
      "source": [
        "train_df['Sentiment'].unique()"
      ],
      "execution_count": null,
      "outputs": [
        {
          "output_type": "execute_result",
          "data": {
            "text/plain": [
              "array(['Neutral', 'Extremely Positive', 'Extremely Negative', 'Positive', 'Negative'], dtype=object)"
            ]
          },
          "metadata": {
            "tags": []
          },
          "execution_count": 47
        }
      ]
    },
    {
      "cell_type": "code",
      "metadata": {
        "id": "i8KmmkbHAtCQ"
      },
      "source": [
        "classifier = text_classifier_learner(data_clas, AWD_LSTM, drop_mult=0.3, metrics=accuracy)"
      ],
      "execution_count": null,
      "outputs": []
    },
    {
      "cell_type": "code",
      "metadata": {
        "id": "dnjGB45jSWFy"
      },
      "source": [
        "classifier.load_encoder('fine_enc')"
      ],
      "execution_count": null,
      "outputs": []
    },
    {
      "cell_type": "code",
      "metadata": {
        "colab": {
          "base_uri": "https://localhost:8080/",
          "height": 301
        },
        "id": "zUAWRr4XNvx3",
        "outputId": "f162ac82-413e-44db-bd1e-ec2f34aaece6"
      },
      "source": [
        "classifier.lr_find()"
      ],
      "execution_count": null,
      "outputs": [
        {
          "output_type": "display_data",
          "data": {
            "text/html": [
              ""
            ],
            "text/plain": [
              "<IPython.core.display.HTML object>"
            ]
          },
          "metadata": {
            "tags": []
          }
        },
        {
          "output_type": "execute_result",
          "data": {
            "text/plain": [
              "SuggestedLRs(lr_min=0.017378008365631102, lr_steep=0.0014454397605732083)"
            ]
          },
          "metadata": {
            "tags": []
          },
          "execution_count": 29
        },
        {
          "output_type": "display_data",
          "data": {
            "image/png": "[encoded data removed]",
            "text/plain": [
              "<Figure size 432x288 with 1 Axes>"
            ]
          },
          "metadata": {
            "tags": [],
            "needs_background": "light"
          }
        }
      ]
    },
    {
      "cell_type": "code",
      "metadata": {
        "colab": {
          "base_uri": "https://localhost:8080/",
          "height": 197
        },
        "id": "PKTjqnBmGZIt",
        "outputId": "3b63557f-cbd9-4e70-92b9-c32e63cfb355"
      },
      "source": [
        "classifier.fit_one_cycle(5, 1e-2)"
      ],
      "execution_count": null,
      "outputs": [
        {
          "output_type": "display_data",
          "data": {
            "text/html": [
              "<table border=\"1\" class=\"dataframe\">\n",
              "  <thead>\n",
              "    <tr style=\"text-align: left;\">\n",
              "      <th>epoch</th>\n",
              "      <th>train_loss</th>\n",
              "      <th>valid_loss</th>\n",
              "      <th>accuracy</th>\n",
              "      <th>time</th>\n",
              "    </tr>\n",
              "  </thead>\n",
              "  <tbody>\n",
              "    <tr>\n",
              "      <td>0</td>\n",
              "      <td>1.450719</td>\n",
              "      <td>1.384043</td>\n",
              "      <td>0.379101</td>\n",
              "      <td>00:18</td>\n",
              "    </tr>\n",
              "    <tr>\n",
              "      <td>1</td>\n",
              "      <td>1.418893</td>\n",
              "      <td>1.366930</td>\n",
              "      <td>0.394897</td>\n",
              "      <td>00:17</td>\n",
              "    </tr>\n",
              "    <tr>\n",
              "      <td>2</td>\n",
              "      <td>1.395639</td>\n",
              "      <td>1.337433</td>\n",
              "      <td>0.414164</td>\n",
              "      <td>00:17</td>\n",
              "    </tr>\n",
              "    <tr>\n",
              "      <td>3</td>\n",
              "      <td>1.355734</td>\n",
              "      <td>1.325618</td>\n",
              "      <td>0.422323</td>\n",
              "      <td>00:17</td>\n",
              "    </tr>\n",
              "    <tr>\n",
              "      <td>4</td>\n",
              "      <td>1.344073</td>\n",
              "      <td>1.314743</td>\n",
              "      <td>0.426836</td>\n",
              "      <td>00:17</td>\n",
              "    </tr>\n",
              "  </tbody>\n",
              "</table>"
            ],
            "text/plain": [
              "<IPython.core.display.HTML object>"
            ]
          },
          "metadata": {
            "tags": []
          }
        }
      ]
    },
    {
      "cell_type": "code",
      "metadata": {
        "colab": {
          "base_uri": "https://localhost:8080/",
          "height": 137
        },
        "id": "L8_5hv9iThou",
        "outputId": "73651e1d-48be-4df9-976d-527fc9e6f926"
      },
      "source": [
        "classifier.freeze_to(-4)\n",
        "classifier.fit_one_cycle(3, 1e-2)"
      ],
      "execution_count": null,
      "outputs": [
        {
          "output_type": "display_data",
          "data": {
            "text/html": [
              "<table border=\"1\" class=\"dataframe\">\n",
              "  <thead>\n",
              "    <tr style=\"text-align: left;\">\n",
              "      <th>epoch</th>\n",
              "      <th>train_loss</th>\n",
              "      <th>valid_loss</th>\n",
              "      <th>accuracy</th>\n",
              "      <th>time</th>\n",
              "    </tr>\n",
              "  </thead>\n",
              "  <tbody>\n",
              "    <tr>\n",
              "      <td>0</td>\n",
              "      <td>0.959051</td>\n",
              "      <td>0.922484</td>\n",
              "      <td>0.638431</td>\n",
              "      <td>00:22</td>\n",
              "    </tr>\n",
              "    <tr>\n",
              "      <td>1</td>\n",
              "      <td>0.741206</td>\n",
              "      <td>0.692775</td>\n",
              "      <td>0.742406</td>\n",
              "      <td>00:22</td>\n",
              "    </tr>\n",
              "    <tr>\n",
              "      <td>2</td>\n",
              "      <td>0.591301</td>\n",
              "      <td>0.604424</td>\n",
              "      <td>0.785627</td>\n",
              "      <td>00:22</td>\n",
              "    </tr>\n",
              "  </tbody>\n",
              "</table>"
            ],
            "text/plain": [
              "<IPython.core.display.HTML object>"
            ]
          },
          "metadata": {
            "tags": []
          }
        }
      ]
    },
    {
      "cell_type": "code",
      "metadata": {
        "colab": {
          "base_uri": "https://localhost:8080/",
          "height": 311
        },
        "id": "UpOcpvbwIB82",
        "outputId": "e8c21813-533c-4ffa-df84-157d438de38c"
      },
      "source": [
        "from fastai.vision import *\n",
        "\n",
        "interp = ClassificationInterpretation.from_learner(classifier)\n",
        "\n",
        "interp.plot_confusion_matrix()"
      ],
      "execution_count": null,
      "outputs": [
        {
          "output_type": "display_data",
          "data": {
            "text/html": [
              ""
            ],
            "text/plain": [
              "<IPython.core.display.HTML object>"
            ]
          },
          "metadata": {
            "tags": []
          }
        },
        {
          "output_type": "display_data",
          "data": {
            "image/png": "[encoded data removed]",
            "text/plain": [
              "<Figure size 432x288 with 1 Axes>"
            ]
          },
          "metadata": {
            "tags": [],
            "needs_background": "light"
          }
        }
      ]
    },
    {
      "cell_type": "code",
      "metadata": {
        "colab": {
          "base_uri": "https://localhost:8080/",
          "height": 70
        },
        "id": "2th1lnM7SHih",
        "outputId": "cc366c3f-a1d6-4ae9-fc8e-98855700435c"
      },
      "source": [
        "classifier.predict('I hate corona virus')"
      ],
      "execution_count": null,
      "outputs": [
        {
          "output_type": "display_data",
          "data": {
            "text/html": [
              ""
            ],
            "text/plain": [
              "<IPython.core.display.HTML object>"
            ]
          },
          "metadata": {
            "tags": []
          }
        },
        {
          "output_type": "execute_result",
          "data": {
            "text/plain": [
              "('Extremely Negative',\n",
              " tensor(0),\n",
              " tensor([9.9935e-01, 9.4686e-09, 6.4548e-04, 5.4781e-08, 1.1805e-07]))"
            ]
          },
          "metadata": {
            "tags": []
          },
          "execution_count": 33
        }
      ]
    },
    {
      "cell_type": "code",
      "metadata": {
        "colab": {
          "base_uri": "https://localhost:8080/",
          "height": 34
        },
        "id": "6uWjZ0n7T-Wt",
        "outputId": "2f846e95-f86d-407e-f898-2e20844e6d00"
      },
      "source": [
        "classifier.predict('Our life style has been changed a lot due to the covid-19')"
      ],
      "execution_count": null,
      "outputs": [
        {
          "output_type": "display_data",
          "data": {
            "text/html": [
              ""
            ],
            "text/plain": [
              "<IPython.core.display.HTML object>"
            ]
          },
          "metadata": {
            "tags": []
          }
        },
        {
          "output_type": "execute_result",
          "data": {
            "text/plain": [
              "('Neutral', tensor(3), tensor([0.0082, 0.0067, 0.0128, 0.9482, 0.0240]))"
            ]
          },
          "metadata": {
            "tags": []
          },
          "execution_count": 34
        }
      ]
    },
    {
      "cell_type": "code",
      "metadata": {
        "id": "FwikQVgmwusJ"
      },
      "source": [
        "from sklearn.metrics import confusion_matrix\n",
        "pre_arr = []\n",
        "ans_arr = []\n",
        "\n",
        "\n",
        "batch_data = test_df\n",
        "size = len(batch_data)\n",
        "\n",
        "for k in range(size):\n",
        "  data  = batch_data.iloc[:,2].values\n",
        "  row, clas, probs = classifier.predict(data[k])\n",
        "  data2 = batch_data.iloc[:,1].values\n",
        "  ans  = data2[k]\n",
        "  pre_arr.append(row)\n",
        "  ans_arr.append(ans)\n",
        "res_data = list(zip(pre_arr, ans_arr))\n",
        "res_df = pd.DataFrame(res_data) \n"
      ],
      "execution_count": null,
      "outputs": []
    },
    {
      "cell_type": "code",
      "metadata": {
        "id": "DYGTusThXDQ5"
      },
      "source": [
        "y_pred =  res_df[0] \n",
        "y_actu =  res_df[1]\n",
        "\n",
        "\n",
        "df_confusion = pd.crosstab(y_actu, y_pred)\n",
        "df_confusion.columns=['Extremely Negative','Extremely Positive', 'Negative', 'Neutral','Positive']\n",
        "df_confusion = df_confusion.rename_axis(None)"
      ],
      "execution_count": null,
      "outputs": []
    },
    {
      "cell_type": "code",
      "metadata": {
        "colab": {
          "base_uri": "https://localhost:8080/",
          "height": 197
        },
        "id": "D6kaejC__-_L",
        "outputId": "cbec76f2-8bdb-4bd0-95f0-2b04623a7885"
      },
      "source": [
        "df_confusion"
      ],
      "execution_count": null,
      "outputs": [
        {
          "output_type": "execute_result",
          "data": {
            "text/html": [
              "<div>\n",
              "<style scoped>\n",
              "    .dataframe tbody tr th:only-of-type {\n",
              "        vertical-align: middle;\n",
              "    }\n",
              "\n",
              "    .dataframe tbody tr th {\n",
              "        vertical-align: top;\n",
              "    }\n",
              "\n",
              "    .dataframe thead th {\n",
              "        text-align: right;\n",
              "    }\n",
              "</style>\n",
              "<table border=\"1\" class=\"dataframe\">\n",
              "  <thead>\n",
              "    <tr style=\"text-align: right;\">\n",
              "      <th></th>\n",
              "      <th>Extremely Negative</th>\n",
              "      <th>Extremely Positive</th>\n",
              "      <th>Negative</th>\n",
              "      <th>Neutral</th>\n",
              "      <th>Positive</th>\n",
              "    </tr>\n",
              "  </thead>\n",
              "  <tbody>\n",
              "    <tr>\n",
              "      <th>Extremely Negative</th>\n",
              "      <td>1068</td>\n",
              "      <td>1</td>\n",
              "      <td>470</td>\n",
              "      <td>8</td>\n",
              "      <td>25</td>\n",
              "    </tr>\n",
              "    <tr>\n",
              "      <th>Extremely Positive</th>\n",
              "      <td>1</td>\n",
              "      <td>1544</td>\n",
              "      <td>12</td>\n",
              "      <td>10</td>\n",
              "      <td>422</td>\n",
              "    </tr>\n",
              "    <tr>\n",
              "      <th>Negative</th>\n",
              "      <td>206</td>\n",
              "      <td>10</td>\n",
              "      <td>2343</td>\n",
              "      <td>134</td>\n",
              "      <td>312</td>\n",
              "    </tr>\n",
              "    <tr>\n",
              "      <th>Neutral</th>\n",
              "      <td>3</td>\n",
              "      <td>5</td>\n",
              "      <td>121</td>\n",
              "      <td>1992</td>\n",
              "      <td>171</td>\n",
              "    </tr>\n",
              "    <tr>\n",
              "      <th>Positive</th>\n",
              "      <td>5</td>\n",
              "      <td>251</td>\n",
              "      <td>240</td>\n",
              "      <td>202</td>\n",
              "      <td>2792</td>\n",
              "    </tr>\n",
              "  </tbody>\n",
              "</table>\n",
              "</div>"
            ],
            "text/plain": [
              "                    Extremely Negative  Extremely Positive  Negative  Neutral  \\\n",
              "Extremely Negative                1068                   1       470        8   \n",
              "Extremely Positive                   1                1544        12       10   \n",
              "Negative                           206                  10      2343      134   \n",
              "Neutral                              3                   5       121     1992   \n",
              "Positive                             5                 251       240      202   \n",
              "\n",
              "                    Positive  \n",
              "Extremely Negative        25  \n",
              "Extremely Positive       422  \n",
              "Negative                 312  \n",
              "Neutral                  171  \n",
              "Positive                2792  "
            ]
          },
          "metadata": {
            "tags": []
          },
          "execution_count": 100
        }
      ]
    },
    {
      "cell_type": "code",
      "metadata": {
        "id": "jQs0qqwMwgQo",
        "outputId": "5128de4e-5274-4096-95f8-ef153e80d167",
        "colab": {
          "base_uri": "https://localhost:8080/",
          "height": 202
        }
      },
      "source": [
        "df = df_confusion[['Extremely Negative', 'Negative', 'Neutral', 'Positive', 'Extremely Positive']]\n"
      ],
      "execution_count": 33,
      "outputs": [
        {
          "output_type": "execute_result",
          "data": {
            "text/html": [
              "<div>\n",
              "<style scoped>\n",
              "    .dataframe tbody tr th:only-of-type {\n",
              "        vertical-align: middle;\n",
              "    }\n",
              "\n",
              "    .dataframe tbody tr th {\n",
              "        vertical-align: top;\n",
              "    }\n",
              "\n",
              "    .dataframe thead th {\n",
              "        text-align: right;\n",
              "    }\n",
              "</style>\n",
              "<table border=\"1\" class=\"dataframe\">\n",
              "  <thead>\n",
              "    <tr style=\"text-align: right;\">\n",
              "      <th></th>\n",
              "      <th>Extremely Negative</th>\n",
              "      <th>Negative</th>\n",
              "      <th>Neutral</th>\n",
              "      <th>Positive</th>\n",
              "      <th>Extremely Positive</th>\n",
              "    </tr>\n",
              "  </thead>\n",
              "  <tbody>\n",
              "    <tr>\n",
              "      <th>Extremely Negative</th>\n",
              "      <td>1068</td>\n",
              "      <td>470</td>\n",
              "      <td>8</td>\n",
              "      <td>25</td>\n",
              "      <td>1</td>\n",
              "    </tr>\n",
              "    <tr>\n",
              "      <th>Extremely Positive</th>\n",
              "      <td>1</td>\n",
              "      <td>12</td>\n",
              "      <td>10</td>\n",
              "      <td>422</td>\n",
              "      <td>1544</td>\n",
              "    </tr>\n",
              "    <tr>\n",
              "      <th>Negative</th>\n",
              "      <td>206</td>\n",
              "      <td>2343</td>\n",
              "      <td>134</td>\n",
              "      <td>312</td>\n",
              "      <td>10</td>\n",
              "    </tr>\n",
              "    <tr>\n",
              "      <th>Neutral</th>\n",
              "      <td>3</td>\n",
              "      <td>121</td>\n",
              "      <td>1992</td>\n",
              "      <td>171</td>\n",
              "      <td>5</td>\n",
              "    </tr>\n",
              "    <tr>\n",
              "      <th>Positive</th>\n",
              "      <td>5</td>\n",
              "      <td>240</td>\n",
              "      <td>202</td>\n",
              "      <td>2792</td>\n",
              "      <td>251</td>\n",
              "    </tr>\n",
              "  </tbody>\n",
              "</table>\n",
              "</div>"
            ],
            "text/plain": [
              "                    Extremely Negative  Negative  ...  Positive  Extremely Positive\n",
              "Extremely Negative                1068       470  ...        25                   1\n",
              "Extremely Positive                   1        12  ...       422                1544\n",
              "Negative                           206      2343  ...       312                  10\n",
              "Neutral                              3       121  ...       171                   5\n",
              "Positive                             5       240  ...      2792                 251\n",
              "\n",
              "[5 rows x 5 columns]"
            ]
          },
          "metadata": {
            "tags": []
          },
          "execution_count": 33
        }
      ]
    },
    {
      "cell_type": "code",
      "metadata": {
        "id": "ByFekDusyLO_",
        "outputId": "e00cc183-1039-4442-b54a-f9d4f50aa5cd",
        "colab": {
          "base_uri": "https://localhost:8080/",
          "height": 202
        }
      },
      "source": [
        "df = df.reindex(index = ['Extremely Negative', 'Negative', 'Neutral', 'Positive', 'Extremely Positive'])\n",
        "df"
      ],
      "execution_count": 36,
      "outputs": [
        {
          "output_type": "execute_result",
          "data": {
            "text/html": [
              "<div>\n",
              "<style scoped>\n",
              "    .dataframe tbody tr th:only-of-type {\n",
              "        vertical-align: middle;\n",
              "    }\n",
              "\n",
              "    .dataframe tbody tr th {\n",
              "        vertical-align: top;\n",
              "    }\n",
              "\n",
              "    .dataframe thead th {\n",
              "        text-align: right;\n",
              "    }\n",
              "</style>\n",
              "<table border=\"1\" class=\"dataframe\">\n",
              "  <thead>\n",
              "    <tr style=\"text-align: right;\">\n",
              "      <th></th>\n",
              "      <th>Extremely Negative</th>\n",
              "      <th>Negative</th>\n",
              "      <th>Neutral</th>\n",
              "      <th>Positive</th>\n",
              "      <th>Extremely Positive</th>\n",
              "    </tr>\n",
              "  </thead>\n",
              "  <tbody>\n",
              "    <tr>\n",
              "      <th>Extremely Negative</th>\n",
              "      <td>1068</td>\n",
              "      <td>470</td>\n",
              "      <td>8</td>\n",
              "      <td>25</td>\n",
              "      <td>1</td>\n",
              "    </tr>\n",
              "    <tr>\n",
              "      <th>Negative</th>\n",
              "      <td>206</td>\n",
              "      <td>2343</td>\n",
              "      <td>134</td>\n",
              "      <td>312</td>\n",
              "      <td>10</td>\n",
              "    </tr>\n",
              "    <tr>\n",
              "      <th>Neutral</th>\n",
              "      <td>3</td>\n",
              "      <td>121</td>\n",
              "      <td>1992</td>\n",
              "      <td>171</td>\n",
              "      <td>5</td>\n",
              "    </tr>\n",
              "    <tr>\n",
              "      <th>Positive</th>\n",
              "      <td>5</td>\n",
              "      <td>240</td>\n",
              "      <td>202</td>\n",
              "      <td>2792</td>\n",
              "      <td>251</td>\n",
              "    </tr>\n",
              "    <tr>\n",
              "      <th>Extremely Positive</th>\n",
              "      <td>1</td>\n",
              "      <td>12</td>\n",
              "      <td>10</td>\n",
              "      <td>422</td>\n",
              "      <td>1544</td>\n",
              "    </tr>\n",
              "  </tbody>\n",
              "</table>\n",
              "</div>"
            ],
            "text/plain": [
              "                    Extremely Negative  Negative  ...  Positive  Extremely Positive\n",
              "Extremely Negative                1068       470  ...        25                   1\n",
              "Negative                           206      2343  ...       312                  10\n",
              "Neutral                              3       121  ...       171                   5\n",
              "Positive                             5       240  ...      2792                 251\n",
              "Extremely Positive                   1        12  ...       422                1544\n",
              "\n",
              "[5 rows x 5 columns]"
            ]
          },
          "metadata": {
            "tags": []
          },
          "execution_count": 36
        }
      ]
    },
    {
      "cell_type": "code",
      "metadata": {
        "id": "5-BVO5CHzDF8"
      },
      "source": [
        ""
      ],
      "execution_count": null,
      "outputs": []
    }
  ]
}